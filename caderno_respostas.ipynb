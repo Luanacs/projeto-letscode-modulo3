{
 "cells": [
  {
   "cell_type": "markdown",
   "metadata": {},
   "source": [
    " 1 - Carregar os arquivos de cadastro, investimento1 e investimento2 e mostrar a quantidade de linhas de cada um, além das informações desses dataframes"
   ]
  },
  {
   "cell_type": "code",
   "execution_count": 2,
   "metadata": {},
   "outputs": [
    {
     "name": "stdout",
     "output_type": "stream",
     "text": [
      "Qtd linhas cadastro: 38754\n",
      "Qtd linhas investimento 1: 20000\n",
      "Qtd linhas investimento 2: 24052\n"
     ]
    }
   ],
   "source": [
    "import pandas as pd\n",
    "import datetime as dt\n",
    "\n",
    "dfCadastro = pd.read_csv('cadastro.csv')\n",
    "dfInvestimentos1 = pd.read_csv('investimento_parte1.csv')\n",
    "dfInvestimentos2 = pd.read_csv('investimento_parte2.csv')\n",
    "\n",
    "print(f'Qtd linhas cadastro: {dfCadastro.shape[0]}')\n",
    "print(f'Qtd linhas investimento 1: {dfInvestimentos1.shape[0]}')\n",
    "print(f'Qtd linhas investimento 2: {dfInvestimentos2.shape[0]}')"
   ]
  },
  {
   "cell_type": "markdown",
   "metadata": {},
   "source": [
    "2 - Juntar os dataframes de investimento1 e investimento2 em um só e ver a quantidade de linhas"
   ]
  },
  {
   "cell_type": "code",
   "execution_count": 8,
   "metadata": {},
   "outputs": [
    {
     "name": "stdout",
     "output_type": "stream",
     "text": [
      "Qtd linhas investimento total: 44052\n"
     ]
    }
   ],
   "source": [
    "# Poderíamos fazer a junção dos dois dataframes através do método merge usando como paramento how='outer' para evitar duplicatas.\n",
    "# dfInvestimento_total = pd.merge(dfInvestimentos1, dfInvestimentos2, how='outer')\n",
    "\n",
    "dfInvestimento_total = pd.concat([dfInvestimentos1, dfInvestimentos2])\n",
    "print(f'Qtd linhas investimento total: {dfInvestimento_total.shape[0]}')"
   ]
  },
  {
   "cell_type": "markdown",
   "metadata": {},
   "source": [
    "3 - Crie um novo dataframe eliminando as linhas duplicadas"
   ]
  },
  {
   "cell_type": "code",
   "execution_count": 29,
   "metadata": {},
   "outputs": [
    {
     "name": "stdout",
     "output_type": "stream",
     "text": [
      "Qtd linhas investimento: 38754\n"
     ]
    }
   ],
   "source": [
    "dfInvestimento = dfInvestimento_total.drop_duplicates()\n",
    "print(f'Qtd linhas investimento: {dfInvestimento.shape[0]}')"
   ]
  },
  {
   "cell_type": "markdown",
   "metadata": {},
   "source": [
    "4 - Junte o dataframe de investimento com o de cadastro\n",
    "<br> Dica: use a chave id"
   ]
  },
  {
   "cell_type": "code",
   "execution_count": 30,
   "metadata": {},
   "outputs": [
    {
     "data": {
      "text/html": [
       "<div>\n",
       "<style scoped>\n",
       "    .dataframe tbody tr th:only-of-type {\n",
       "        vertical-align: middle;\n",
       "    }\n",
       "\n",
       "    .dataframe tbody tr th {\n",
       "        vertical-align: top;\n",
       "    }\n",
       "\n",
       "    .dataframe thead th {\n",
       "        text-align: right;\n",
       "    }\n",
       "</style>\n",
       "<table border=\"1\" class=\"dataframe\">\n",
       "  <thead>\n",
       "    <tr style=\"text-align: right;\">\n",
       "      <th></th>\n",
       "      <th>id</th>\n",
       "      <th>Nome</th>\n",
       "      <th>Sexo</th>\n",
       "      <th>Nasc</th>\n",
       "      <th>Idade</th>\n",
       "      <th>Email</th>\n",
       "      <th>Lat_long</th>\n",
       "      <th>Job</th>\n",
       "      <th>Estado</th>\n",
       "      <th>Salario</th>\n",
       "      <th>Perfil</th>\n",
       "      <th>Ativo01</th>\n",
       "      <th>Ativo02</th>\n",
       "      <th>Ativo03</th>\n",
       "      <th>Ativo04</th>\n",
       "      <th>Ativo05</th>\n",
       "      <th>Ativo06</th>\n",
       "      <th>Ativo07</th>\n",
       "      <th>Nota1</th>\n",
       "      <th>Nota2</th>\n",
       "    </tr>\n",
       "  </thead>\n",
       "  <tbody>\n",
       "    <tr>\n",
       "      <th>0</th>\n",
       "      <td>id0000001</td>\n",
       "      <td>Eunice Hellen do Vale</td>\n",
       "      <td>Fem</td>\n",
       "      <td>1970-11-12</td>\n",
       "      <td>51</td>\n",
       "      <td>djones@yahoo.com</td>\n",
       "      <td>(Decimal('24.7024355'), Decimal('-28.038258'))</td>\n",
       "      <td>Technical author</td>\n",
       "      <td>TO</td>\n",
       "      <td>$63.67</td>\n",
       "      <td>Moderado</td>\n",
       "      <td>1174.27</td>\n",
       "      <td>4980.98</td>\n",
       "      <td>2638.24</td>\n",
       "      <td>NaN</td>\n",
       "      <td>4480.91</td>\n",
       "      <td>2329.72</td>\n",
       "      <td>480.72</td>\n",
       "      <td>79.600372</td>\n",
       "      <td>9.802620</td>\n",
       "    </tr>\n",
       "    <tr>\n",
       "      <th>1</th>\n",
       "      <td>id0000002</td>\n",
       "      <td>Sebastião Castelo Branco Júnior</td>\n",
       "      <td>Masc</td>\n",
       "      <td>2019-12-10</td>\n",
       "      <td>2</td>\n",
       "      <td>barnesandrea@yahoo.com</td>\n",
       "      <td>(Decimal('21.8589875'), Decimal('122.830566'))</td>\n",
       "      <td>Biochemist, clinical</td>\n",
       "      <td>DF</td>\n",
       "      <td>$21.96</td>\n",
       "      <td>Moderado</td>\n",
       "      <td>842.12</td>\n",
       "      <td>5646.09</td>\n",
       "      <td>3336.07</td>\n",
       "      <td>NaN</td>\n",
       "      <td>5624.22</td>\n",
       "      <td>2669.98</td>\n",
       "      <td>504.17</td>\n",
       "      <td>44.406893</td>\n",
       "      <td>90.512871</td>\n",
       "    </tr>\n",
       "    <tr>\n",
       "      <th>2</th>\n",
       "      <td>id0000003</td>\n",
       "      <td>Romildo Fábio de Carvalho</td>\n",
       "      <td>Masc</td>\n",
       "      <td>2015-12-28</td>\n",
       "      <td>6</td>\n",
       "      <td>walkermichael@yahoo.com</td>\n",
       "      <td>(Decimal('-28.2161525'), Decimal('97.140529'))</td>\n",
       "      <td>Development worker, international aid</td>\n",
       "      <td>DF</td>\n",
       "      <td>$62497.64</td>\n",
       "      <td>Agressivo</td>\n",
       "      <td>818.81</td>\n",
       "      <td>5516.52</td>\n",
       "      <td>3396.64</td>\n",
       "      <td>NaN</td>\n",
       "      <td>5033.83</td>\n",
       "      <td>2229.45</td>\n",
       "      <td>523.12</td>\n",
       "      <td>44.020024</td>\n",
       "      <td>65.060941</td>\n",
       "    </tr>\n",
       "    <tr>\n",
       "      <th>3</th>\n",
       "      <td>id0000004</td>\n",
       "      <td>Lana Albina de Lemos Mumy</td>\n",
       "      <td>Fem</td>\n",
       "      <td>1993-05-03</td>\n",
       "      <td>28</td>\n",
       "      <td>cobbangela@hotmail.com</td>\n",
       "      <td>(Decimal('-40.8557635'), Decimal('-2.936099'))</td>\n",
       "      <td>Estate manager/land agent</td>\n",
       "      <td>DF</td>\n",
       "      <td>$99878.74</td>\n",
       "      <td>Agressivo</td>\n",
       "      <td>NaN</td>\n",
       "      <td>5258.69</td>\n",
       "      <td>3723.10</td>\n",
       "      <td>NaN</td>\n",
       "      <td>5933.91</td>\n",
       "      <td>NaN</td>\n",
       "      <td>486.05</td>\n",
       "      <td>25.597924</td>\n",
       "      <td>86.548918</td>\n",
       "    </tr>\n",
       "    <tr>\n",
       "      <th>4</th>\n",
       "      <td>id0000005</td>\n",
       "      <td>Rose Elisângela Vyrnium de Moura</td>\n",
       "      <td>Fem</td>\n",
       "      <td>1984-06-10</td>\n",
       "      <td>37</td>\n",
       "      <td>crawfordcraig@yahoo.com</td>\n",
       "      <td>(Decimal('-20.2620885'), Decimal('104.349223'))</td>\n",
       "      <td>Chartered public finance accountant</td>\n",
       "      <td>MS</td>\n",
       "      <td>$188.01</td>\n",
       "      <td>Conservador</td>\n",
       "      <td>1505.16</td>\n",
       "      <td>6415.30</td>\n",
       "      <td>3462.67</td>\n",
       "      <td>30841.35</td>\n",
       "      <td>6044.86</td>\n",
       "      <td>2198.89</td>\n",
       "      <td>512.98</td>\n",
       "      <td>14.463307</td>\n",
       "      <td>33.566292</td>\n",
       "    </tr>\n",
       "  </tbody>\n",
       "</table>\n",
       "</div>"
      ],
      "text/plain": [
       "          id                              Nome  Sexo        Nasc  Idade  \\\n",
       "0  id0000001             Eunice Hellen do Vale   Fem  1970-11-12     51   \n",
       "1  id0000002   Sebastião Castelo Branco Júnior  Masc  2019-12-10      2   \n",
       "2  id0000003         Romildo Fábio de Carvalho  Masc  2015-12-28      6   \n",
       "3  id0000004         Lana Albina de Lemos Mumy   Fem  1993-05-03     28   \n",
       "4  id0000005  Rose Elisângela Vyrnium de Moura   Fem  1984-06-10     37   \n",
       "\n",
       "                     Email                                         Lat_long  \\\n",
       "0         djones@yahoo.com   (Decimal('24.7024355'), Decimal('-28.038258'))   \n",
       "1   barnesandrea@yahoo.com   (Decimal('21.8589875'), Decimal('122.830566'))   \n",
       "2  walkermichael@yahoo.com   (Decimal('-28.2161525'), Decimal('97.140529'))   \n",
       "3   cobbangela@hotmail.com   (Decimal('-40.8557635'), Decimal('-2.936099'))   \n",
       "4  crawfordcraig@yahoo.com  (Decimal('-20.2620885'), Decimal('104.349223'))   \n",
       "\n",
       "                                     Job Estado    Salario       Perfil  \\\n",
       "0                       Technical author     TO     $63.67     Moderado   \n",
       "1                   Biochemist, clinical     DF     $21.96     Moderado   \n",
       "2  Development worker, international aid     DF  $62497.64    Agressivo   \n",
       "3              Estate manager/land agent     DF  $99878.74    Agressivo   \n",
       "4    Chartered public finance accountant     MS    $188.01  Conservador   \n",
       "\n",
       "   Ativo01  Ativo02  Ativo03   Ativo04  Ativo05  Ativo06  Ativo07      Nota1  \\\n",
       "0  1174.27  4980.98  2638.24       NaN  4480.91  2329.72   480.72  79.600372   \n",
       "1   842.12  5646.09  3336.07       NaN  5624.22  2669.98   504.17  44.406893   \n",
       "2   818.81  5516.52  3396.64       NaN  5033.83  2229.45   523.12  44.020024   \n",
       "3      NaN  5258.69  3723.10       NaN  5933.91      NaN   486.05  25.597924   \n",
       "4  1505.16  6415.30  3462.67  30841.35  6044.86  2198.89   512.98  14.463307   \n",
       "\n",
       "       Nota2  \n",
       "0   9.802620  \n",
       "1  90.512871  \n",
       "2  65.060941  \n",
       "3  86.548918  \n",
       "4  33.566292  "
      ]
     },
     "execution_count": 30,
     "metadata": {},
     "output_type": "execute_result"
    }
   ],
   "source": [
    "dataset = pd.merge(dfCadastro, dfInvestimento, how='outer', on=['id'])\n",
    "dataset.head()"
   ]
  },
  {
   "cell_type": "markdown",
   "metadata": {},
   "source": [
    "5 - Ordene o dataframe pelo id, de forma crescente e redefina o índice"
   ]
  },
  {
   "cell_type": "code",
   "execution_count": 31,
   "metadata": {},
   "outputs": [
    {
     "data": {
      "text/html": [
       "<div>\n",
       "<style scoped>\n",
       "    .dataframe tbody tr th:only-of-type {\n",
       "        vertical-align: middle;\n",
       "    }\n",
       "\n",
       "    .dataframe tbody tr th {\n",
       "        vertical-align: top;\n",
       "    }\n",
       "\n",
       "    .dataframe thead th {\n",
       "        text-align: right;\n",
       "    }\n",
       "</style>\n",
       "<table border=\"1\" class=\"dataframe\">\n",
       "  <thead>\n",
       "    <tr style=\"text-align: right;\">\n",
       "      <th></th>\n",
       "      <th>id</th>\n",
       "      <th>Nome</th>\n",
       "      <th>Sexo</th>\n",
       "      <th>Nasc</th>\n",
       "      <th>Idade</th>\n",
       "      <th>Email</th>\n",
       "      <th>Lat_long</th>\n",
       "      <th>Job</th>\n",
       "      <th>Estado</th>\n",
       "      <th>Salario</th>\n",
       "      <th>Perfil</th>\n",
       "      <th>Ativo01</th>\n",
       "      <th>Ativo02</th>\n",
       "      <th>Ativo03</th>\n",
       "      <th>Ativo04</th>\n",
       "      <th>Ativo05</th>\n",
       "      <th>Ativo06</th>\n",
       "      <th>Ativo07</th>\n",
       "      <th>Nota1</th>\n",
       "      <th>Nota2</th>\n",
       "    </tr>\n",
       "  </thead>\n",
       "  <tbody>\n",
       "    <tr>\n",
       "      <th>0</th>\n",
       "      <td>id0000001</td>\n",
       "      <td>Eunice Hellen do Vale</td>\n",
       "      <td>Fem</td>\n",
       "      <td>1970-11-12</td>\n",
       "      <td>51</td>\n",
       "      <td>djones@yahoo.com</td>\n",
       "      <td>(Decimal('24.7024355'), Decimal('-28.038258'))</td>\n",
       "      <td>Technical author</td>\n",
       "      <td>TO</td>\n",
       "      <td>$63.67</td>\n",
       "      <td>Moderado</td>\n",
       "      <td>1174.27</td>\n",
       "      <td>4980.98</td>\n",
       "      <td>2638.24</td>\n",
       "      <td>NaN</td>\n",
       "      <td>4480.91</td>\n",
       "      <td>2329.72</td>\n",
       "      <td>480.72</td>\n",
       "      <td>79.600372</td>\n",
       "      <td>9.802620</td>\n",
       "    </tr>\n",
       "    <tr>\n",
       "      <th>1</th>\n",
       "      <td>id0000002</td>\n",
       "      <td>Sebastião Castelo Branco Júnior</td>\n",
       "      <td>Masc</td>\n",
       "      <td>2019-12-10</td>\n",
       "      <td>2</td>\n",
       "      <td>barnesandrea@yahoo.com</td>\n",
       "      <td>(Decimal('21.8589875'), Decimal('122.830566'))</td>\n",
       "      <td>Biochemist, clinical</td>\n",
       "      <td>DF</td>\n",
       "      <td>$21.96</td>\n",
       "      <td>Moderado</td>\n",
       "      <td>842.12</td>\n",
       "      <td>5646.09</td>\n",
       "      <td>3336.07</td>\n",
       "      <td>NaN</td>\n",
       "      <td>5624.22</td>\n",
       "      <td>2669.98</td>\n",
       "      <td>504.17</td>\n",
       "      <td>44.406893</td>\n",
       "      <td>90.512871</td>\n",
       "    </tr>\n",
       "    <tr>\n",
       "      <th>2</th>\n",
       "      <td>id0000003</td>\n",
       "      <td>Romildo Fábio de Carvalho</td>\n",
       "      <td>Masc</td>\n",
       "      <td>2015-12-28</td>\n",
       "      <td>6</td>\n",
       "      <td>walkermichael@yahoo.com</td>\n",
       "      <td>(Decimal('-28.2161525'), Decimal('97.140529'))</td>\n",
       "      <td>Development worker, international aid</td>\n",
       "      <td>DF</td>\n",
       "      <td>$62497.64</td>\n",
       "      <td>Agressivo</td>\n",
       "      <td>818.81</td>\n",
       "      <td>5516.52</td>\n",
       "      <td>3396.64</td>\n",
       "      <td>NaN</td>\n",
       "      <td>5033.83</td>\n",
       "      <td>2229.45</td>\n",
       "      <td>523.12</td>\n",
       "      <td>44.020024</td>\n",
       "      <td>65.060941</td>\n",
       "    </tr>\n",
       "  </tbody>\n",
       "</table>\n",
       "</div>"
      ],
      "text/plain": [
       "          id                             Nome  Sexo        Nasc  Idade  \\\n",
       "0  id0000001            Eunice Hellen do Vale   Fem  1970-11-12     51   \n",
       "1  id0000002  Sebastião Castelo Branco Júnior  Masc  2019-12-10      2   \n",
       "2  id0000003        Romildo Fábio de Carvalho  Masc  2015-12-28      6   \n",
       "\n",
       "                     Email                                        Lat_long  \\\n",
       "0         djones@yahoo.com  (Decimal('24.7024355'), Decimal('-28.038258'))   \n",
       "1   barnesandrea@yahoo.com  (Decimal('21.8589875'), Decimal('122.830566'))   \n",
       "2  walkermichael@yahoo.com  (Decimal('-28.2161525'), Decimal('97.140529'))   \n",
       "\n",
       "                                     Job Estado    Salario     Perfil  \\\n",
       "0                       Technical author     TO     $63.67   Moderado   \n",
       "1                   Biochemist, clinical     DF     $21.96   Moderado   \n",
       "2  Development worker, international aid     DF  $62497.64  Agressivo   \n",
       "\n",
       "   Ativo01  Ativo02  Ativo03  Ativo04  Ativo05  Ativo06  Ativo07      Nota1  \\\n",
       "0  1174.27  4980.98  2638.24      NaN  4480.91  2329.72   480.72  79.600372   \n",
       "1   842.12  5646.09  3336.07      NaN  5624.22  2669.98   504.17  44.406893   \n",
       "2   818.81  5516.52  3396.64      NaN  5033.83  2229.45   523.12  44.020024   \n",
       "\n",
       "       Nota2  \n",
       "0   9.802620  \n",
       "1  90.512871  \n",
       "2  65.060941  "
      ]
     },
     "metadata": {},
     "output_type": "display_data"
    }
   ],
   "source": [
    "dataset2 = dataset.sort_values('id', ascending=True)\n",
    "display(dataset2.head(3))"
   ]
  },
  {
   "cell_type": "code",
   "execution_count": null,
   "metadata": {},
   "outputs": [],
   "source": [
    "dataset2 = pd.DataFrame(dataset, index=None)\n",
    "dataset2"
   ]
  },
  {
   "cell_type": "markdown",
   "metadata": {},
   "source": [
    "6 - Faça uma análise dos dados faltantes e trate-os\n",
    "<br>Mostre todas as colunas com dados faltantes, sua quantidade/porcentagem e como tratar (preencher) cada uma delas explicando sua estratégia"
   ]
  },
  {
   "cell_type": "code",
   "execution_count": null,
   "metadata": {},
   "outputs": [],
   "source": []
  },
  {
   "cell_type": "markdown",
   "metadata": {},
   "source": [
    "7 - Manipule os dados a seguir:\n",
    " - Criar coluna \"Total\" somando o valor de todos os ativos por investidor\n",
    " - Criar coluna \"Media\" com a média das notas 1 e 2\n",
    " - Criar coluna \"Dominio\" com apenas o domínio do email (dica: separar por @)\n",
    " - Mudar o nome da coluna \"Salário\" para \"Renda\" e tratar a coluna (sem caracter $ e tipo numérica)\n",
    " - Mudar os dados da coluna \"Sexo\" para Masculino e Feminino (tente usar o map)\n",
    " - Transformar os dados da coluna Media em inteiro\n",
    " - Criar coluna \"NPS\" onde o investidor é promotor se a média das notas é maior igual a 80, neutro se a média estiver entre 50 e 80, e detrator se for abaixo de 50"
   ]
  },
  {
   "cell_type": "code",
   "execution_count": null,
   "metadata": {},
   "outputs": [],
   "source": []
  },
  {
   "cell_type": "markdown",
   "metadata": {},
   "source": [
    "8 - Calcule os seguintes dados\n",
    " - Calcule o total investido em cada coluna Ativo (tente usar o apply)\n",
    " - Qual o menor valor investido em cada ativo?\n",
    " - Mostre a média e desvio padrão de cada ativo\n",
    " - Qual a idade do investidor mais velho?\n",
    " - Qual a mediana da coluna Média?"
   ]
  },
  {
   "cell_type": "code",
   "execution_count": null,
   "metadata": {},
   "outputs": [],
   "source": []
  },
  {
   "cell_type": "markdown",
   "metadata": {},
   "source": [
    "9 - Responder as perguntas abaixo\n",
    " - Quantos investidores são promotores?\n",
    " - Quantos investidores são do sexo feminino?\n",
    " - Quantos investidores investiram mais de 16000 no Ativo04?\n",
    " - Quantos investidores investiram mais de 16000 no Ativo04 e menos de 5000 no Ativo05?\n",
    " - Quantos investidores do sexo feminino tem mais de 25 anos e investiu menos de 10000? (bonus: por que esse dado seria importante para a estratégia da nossa empresa?\n",
    " - Quantos investidores tem em cada estado (dica: use groupby)\n",
    " - Qual é a soma do total investido por cada estado?\n",
    " - Como os investidores se distribuem em promotores, detratores e neutros?\n",
    " - Qual é a média do total investido por promotores, detratores e neutros? </p>"
   ]
  },
  {
   "cell_type": "code",
   "execution_count": null,
   "metadata": {},
   "outputs": [],
   "source": []
  }
 ],
 "metadata": {
  "kernelspec": {
   "display_name": "Python 3.9.7 ('base')",
   "language": "python",
   "name": "python3"
  },
  "language_info": {
   "codemirror_mode": {
    "name": "ipython",
    "version": 3
   },
   "file_extension": ".py",
   "mimetype": "text/x-python",
   "name": "python",
   "nbconvert_exporter": "python",
   "pygments_lexer": "ipython3",
   "version": "3.9.7"
  },
  "orig_nbformat": 4,
  "vscode": {
   "interpreter": {
    "hash": "02f81664b8bb2d7d8c6c087d945f9a8f872975956a65bf5f1d26b8d20b5225ab"
   }
  }
 },
 "nbformat": 4,
 "nbformat_minor": 2
}
